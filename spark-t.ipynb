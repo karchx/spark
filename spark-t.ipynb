{
  "nbformat": 4,
  "nbformat_minor": 0,
  "metadata": {
    "colab": {
      "provenance": [],
      "collapsed_sections": [
        "Ha4GJBIogCPw"
      ],
      "include_colab_link": true
    },
    "kernelspec": {
      "name": "python3",
      "display_name": "Python 3"
    }
  },
  "cells": [
    {
      "cell_type": "markdown",
      "metadata": {
        "id": "view-in-github",
        "colab_type": "text"
      },
      "source": [
        "<a href=\"https://colab.research.google.com/github/karchx/spark/blob/main/spark-t.ipynb\" target=\"_parent\"><img src=\"https://colab.research.google.com/assets/colab-badge.svg\" alt=\"Open In Colab\"/></a>"
      ]
    },
    {
      "cell_type": "markdown",
      "source": [
        "# Dataset create CSV with pyspark"
      ],
      "metadata": {
        "id": "MYHOo897bH9J"
      }
    },
    {
      "cell_type": "code",
      "metadata": {
        "id": "ubhXKpI5B4-q"
      },
      "source": [
        "!pip install pyspark pandas\n",
        "!apt-get install openjdk-8-jdk-headless -qq > /dev/null\n",
        "\n",
        "import os\n",
        "os.environ[\"JAVA_HOME\"] = \"/usr/lib/jvm/java-8-openjdk-amd64\""
      ],
      "execution_count": null,
      "outputs": []
    },
    {
      "cell_type": "code",
      "source": [
        "import requests\n",
        "import json\n",
        "\n",
        "data = requests.get(\"https://www.defense.gov/data.json\")\n",
        "data = data.json()\n",
        "with open(\"/tmp/ds_w.json\", \"w\") as f:\n",
        "  f.write(json.dumps(data[\"dataset\"]))"
      ],
      "metadata": {
        "id": "guRFN4rIbGn-"
      },
      "execution_count": 2,
      "outputs": []
    },
    {
      "cell_type": "code",
      "source": [
        "# !cat /tmp/ds.json\n",
        "!ls -l --block-size=M /tmp/ds_w.json"
      ],
      "metadata": {
        "colab": {
          "base_uri": "https://localhost:8080/"
        },
        "id": "3ucg9aNtbpAb",
        "outputId": "6e562e99-b0cb-4494-e9a1-89a8bf700605"
      },
      "execution_count": 3,
      "outputs": [
        {
          "output_type": "stream",
          "name": "stdout",
          "text": [
            "-rw-r--r-- 1 root root 1M Mar 13 04:16 /tmp/ds_w.json\n"
          ]
        }
      ]
    },
    {
      "cell_type": "code",
      "metadata": {
        "id": "GVnGWSdGBiQ5"
      },
      "source": [
        "from pyspark import SparkConf, SparkContext, SQLContext\n",
        "from pyspark.sql import SparkSession\n",
        "\n",
        "#conf = SparkConf().setMaster(\"local\").setAppName(\"create_csv\")\n",
        "\n",
        "# Inicializo el Spark Context\n",
        "spark = SparkSession.builder.master(\"local\").appName(\"create_csv\").getOrCreate()\n",
        "\n",
        "#spark = SparkSession.builder.master(\"local\").appName(\"create_csv\").getOrCreate()\n",
        "#spark = SQLContext(sc)"
      ],
      "execution_count": 4,
      "outputs": []
    },
    {
      "cell_type": "code",
      "source": [
        "\n",
        "df = spark.createDataFrame(data[\"dataset\"])\n",
        "#df.toPandas().to_csv(index=False)\n",
        "#data = (str(data[\"dataset\"]))\n",
        "#sc = spark.sparkContext\n",
        "\n",
        "#df.select(\"id\").show()\n",
        "df.\n",
        "df.select('publisher.name').show()"
      ],
      "metadata": {
        "id": "z0WB7926cW06"
      },
      "execution_count": null,
      "outputs": []
    },
    {
      "cell_type": "code",
      "source": [
        "from pyspark.sql.functions import size\n",
        "\n",
        "df = spark.createDataFrame(data[\"dataset\"])\n",
        "\n",
        "df.select('publisher.name', 'keyword', size(\"keyword\")).show()"
      ],
      "metadata": {
        "colab": {
          "base_uri": "https://localhost:8080/"
        },
        "id": "SyReld-Dxj__",
        "outputId": "e841f3f3-271d-429d-c21e-c712e0a15712"
      },
      "execution_count": null,
      "outputs": [
        {
          "output_type": "stream",
          "name": "stdout",
          "text": [
            "+--------------------+--------------------+-------------+\n",
            "|                name|             keyword|size(keyword)|\n",
            "+--------------------+--------------------+-------------+\n",
            "|Department of Def...|[Enlistment, Acce...|            2|\n",
            "|Department of Def...|[Enlistment, Acce...|            2|\n",
            "|Department of Def...|[Enlistment, Acce...|            2|\n",
            "|Department of Def...|[Enlistment, Acce...|            2|\n",
            "|Department of Def...|[Enlistment, Acce...|            2|\n",
            "|Department of Def...|[Enlistment, Acce...|            2|\n",
            "|Department of Def...|[Enlistment, Acce...|            2|\n",
            "|Department of Def...|[Enlistment, Acce...|            2|\n",
            "|Department of Def...|[Enlistment, Acce...|            2|\n",
            "|Department of Def...|[Enlistment, Acce...|            2|\n",
            "|Department of Def...|[Enlistment, Acce...|            2|\n",
            "|Department of Def...|[Active, Air Forc...|           20|\n",
            "|Office of the Sec...|[afsc, air-force,...|            3|\n",
            "|Office of the Sec...|[usaf, air-force,...|            5|\n",
            "|Department of Def...|[contract appeal,...|            3|\n",
            "|Department of Def...|[contract appeal,...|            3|\n",
            "|Department of Def...|[contract appeal,...|            3|\n",
            "|Department of Def...|[contract appeal,...|            3|\n",
            "|Department of Def...|[contract appeal,...|            3|\n",
            "|Department of Def...|[contract appeal,...|            3|\n",
            "+--------------------+--------------------+-------------+\n",
            "only showing top 20 rows\n",
            "\n"
          ]
        }
      ]
    },
    {
      "cell_type": "code",
      "source": [
        "!cat /tmp/ds.csv"
      ],
      "metadata": {
        "id": "5ZZGtZ9Z80UB"
      },
      "execution_count": null,
      "outputs": []
    },
    {
      "cell_type": "markdown",
      "source": [
        "Goal\n",
        "\n",
        "Create a silver layer of data that performs some transformations on the bronze data.\n",
        "\n",
        "This data should provide two new tables:\n",
        "\n",
        "providers\n",
        "the unique name of each provider\n",
        "keywords\n",
        "how often each keyword occurred for each provider\n",
        "Requirements\n",
        "The following data should exist in the silver layer\n",
        "providers\n",
        "id: integer\n",
        "name: string\n",
        "\n",
        "keywords\n",
        "id: integer\n",
        "provider_id: string\n",
        "keyword: string\n",
        "count: integer\n",
        "\n",
        "Any assumptions about the data, process, etc. are captured in the comments on this story\n",
        "Any additional testing or capabilities are captured in the comments on this story\n",
        "Blockers\n",
        "This story requires that bronze data already exists"
      ],
      "metadata": {
        "id": "9itTuDgltA-f"
      }
    },
    {
      "cell_type": "code",
      "source": [],
      "metadata": {
        "id": "qwOTBzWbwTeG"
      },
      "execution_count": null,
      "outputs": []
    }
  ]
}
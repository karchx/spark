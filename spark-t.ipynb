{
  "nbformat": 4,
  "nbformat_minor": 0,
  "metadata": {
    "colab": {
      "provenance": [],
      "collapsed_sections": [
        "Ha4GJBIogCPw"
      ],
      "include_colab_link": true
    },
    "kernelspec": {
      "name": "python3",
      "display_name": "Python 3"
    }
  },
  "cells": [
    {
      "cell_type": "markdown",
      "metadata": {
        "id": "view-in-github",
        "colab_type": "text"
      },
      "source": [
        "<a href=\"https://colab.research.google.com/github/karchx/spark/blob/main/spark-t.ipynb\" target=\"_parent\"><img src=\"https://colab.research.google.com/assets/colab-badge.svg\" alt=\"Open In Colab\"/></a>"
      ]
    },
    {
      "cell_type": "markdown",
      "source": [
        "# Dataset create CSV with pyspark"
      ],
      "metadata": {
        "id": "MYHOo897bH9J"
      }
    },
    {
      "cell_type": "code",
      "metadata": {
        "id": "ubhXKpI5B4-q"
      },
      "source": [
        "!pip install pyspark pandas\n",
        "!apt-get install openjdk-8-jdk-headless -qq > /dev/null\n",
        "\n",
        "import os\n",
        "os.environ[\"JAVA_HOME\"] = \"/usr/lib/jvm/java-8-openjdk-amd64\""
      ],
      "execution_count": null,
      "outputs": []
    },
    {
      "cell_type": "code",
      "source": [
        "import requests\n",
        "import json\n",
        "\n",
        "data = requests.get(\"https://www.defense.gov/data.json\")\n",
        "data = data.json()\n",
        "with open(\"/tmp/ds_w.json\", \"w\") as f:\n",
        "  f.write(json.dumps(data[\"dataset\"]))"
      ],
      "metadata": {
        "id": "guRFN4rIbGn-"
      },
      "execution_count": 2,
      "outputs": []
    },
    {
      "cell_type": "code",
      "source": [
        "# !cat /tmp/ds.json\n",
        "!ls -l --block-size=M /tmp/ds_w.json"
      ],
      "metadata": {
        "colab": {
          "base_uri": "https://localhost:8080/"
        },
        "id": "3ucg9aNtbpAb",
        "outputId": "6e562e99-b0cb-4494-e9a1-89a8bf700605"
      },
      "execution_count": 3,
      "outputs": [
        {
          "output_type": "stream",
          "name": "stdout",
          "text": [
            "-rw-r--r-- 1 root root 1M Mar 13 04:16 /tmp/ds_w.json\n"
          ]
        }
      ]
    },
    {
      "cell_type": "code",
      "metadata": {
        "id": "GVnGWSdGBiQ5"
      },
      "source": [
        "from pyspark import SparkConf, SparkContext, SQLContext\n",
        "from pyspark.sql import SparkSession\n",
        "\n",
        "#conf = SparkConf().setMaster(\"local\").setAppName(\"create_csv\")\n",
        "\n",
        "# Inicializo el Spark Context\n",
        "spark = SparkSession.builder.master(\"local\").appName(\"create_csv\").getOrCreate()\n",
        "\n",
        "#spark = SparkSession.builder.master(\"local\").appName(\"create_csv\").getOrCreate()\n",
        "#spark = SQLContext(sc)"
      ],
      "execution_count": 4,
      "outputs": []
    },
    {
      "cell_type": "code",
      "source": [
        "from pyspark.sql.functions import col, regexp_extract, expr, explode, first\n",
        "\n",
        "df = spark.createDataFrame(data[\"dataset\"])\n",
        "\n",
        "df2 = df.select(\"*\", explode(df.distribution))\n",
        "df3 = df2.select(\"*\", explode(df2.col))\n",
        "pv = df3.select(\"*\")\\\n",
        "  .groupBy([c for c in df3.columns if c not in {'contactPoint', 'distribution', 'publisher', 'col'}])\\\n",
        "  .pivot(\"key\").agg(first(\"value\"))\n",
        "\n",
        "pv.drop(\"key\", \"value\").show()\n",
        "\n",
        "\n",
        "#pv.select(\"downloadURL\", \"mediaType\", \"title\").write.csv(\"/tmp/ds.csv\")\n",
        "\n",
        "#df.withColumn(\"bureauCode\", col(\"bureauCode\").cast(\"string\"))\\\n",
        "#.withColumn(\"contactPoint\", col(\"contactPoint\").cast(\"string\"))\\\n",
        "#.write.csv(\"/tmp/ds.csv\")\n",
        "#df.select(\"distribution\").show()\n",
        "\n",
        "#df.select('publisher.name').show()"
      ],
      "metadata": {
        "id": "z0WB7926cW06",
        "colab": {
          "base_uri": "https://localhost:8080/"
        },
        "outputId": "db51b9ac-6e7b-4b0d-a00c-9044a957e59c"
      },
      "execution_count": 99,
      "outputs": [
        {
          "output_type": "stream",
          "name": "stdout",
          "text": [
            "+------------+-----------+----------+-----------+--------------------+--------------------+--------------------+--------+--------------------+----------+-----------+-------+--------+--------------------+------------------+-----------+-----------------+---------+--------------------+--------------------+--------------------+\n",
            "|       @type|accessLevel|bureauCode|dataQuality|         description|          identifier|             keyword|language|             license|  modified|programCode|spatial|temporal|               title|accrualPeriodicity|describedBy|            @type|accessURL|         downloadURL|           mediaType|               title|\n",
            "+------------+-----------+----------+-----------+--------------------+--------------------+--------------------+--------+--------------------+----------+-----------+-------+--------+--------------------+------------------+-----------+-----------------+---------+--------------------+--------------------+--------------------+\n",
            "|dcat:Dataset|     public|  [007:00]|       true|Detailed listing ...|21c30d25-ffb7-f6a...|[FOIA, FOIA data ...| [en-US]|http://www.usa.go...|2014-10-01|  [007:053]|   NULL|    NULL|Office of Secreta...|              NULL|       NULL|dcat:Distribution|     NULL|                NULL|                NULL|                NULL|\n",
            "|dcat:Dataset|     public|  [007:00]|       true|Detailed listing ...|21c30d25-ffb7-f6a...|[FOIA, FOIA data ...| [en-US]|http://www.usa.go...|2014-10-01|  [007:053]|   NULL|    NULL|Office of Secreta...|              NULL|       NULL|             NULL|     NULL|http://www.dod.mi...|                NULL|                NULL|\n",
            "|dcat:Dataset|     public|  [007:00]|       true|Detailed listing ...|21c30d25-ffb7-f6a...|[FOIA, FOIA data ...| [en-US]|http://www.usa.go...|2014-10-01|  [007:053]|   NULL|    NULL|Office of Secreta...|              NULL|       NULL|             NULL|     NULL|http://www.dod.mi...|                NULL|                NULL|\n",
            "|dcat:Dataset|     public|  [007:00]|       true|Detailed listing ...|21c30d25-ffb7-f6a...|[FOIA, FOIA data ...| [en-US]|http://www.usa.go...|2014-10-01|  [007:053]|   NULL|    NULL|Office of Secreta...|              NULL|       NULL|             NULL|     NULL|                NULL|     application/pdf|                NULL|\n",
            "|dcat:Dataset|     public|  [007:00]|       true|Detailed listing ...|21c30d25-ffb7-f6a...|[FOIA, FOIA data ...| [en-US]|http://www.usa.go...|2014-10-01|  [007:053]|   NULL|    NULL|Office of Secreta...|              NULL|       NULL|             NULL|     NULL|                NULL|application/vnd.m...|                NULL|\n",
            "|dcat:Dataset|     public|  [007:00]|       true|Detailed listing ...|21c30d25-ffb7-f6a...|[FOIA, FOIA data ...| [en-US]|http://www.usa.go...|2014-10-01|  [007:053]|   NULL|    NULL|Office of Secreta...|              NULL|       NULL|             NULL|     NULL|                NULL|                NULL|5a11475e-39f5-40a...|\n",
            "|dcat:Dataset|     public|  [007:00]|       true|Detailed listing ...|21c30d25-ffb7-f6a...|[FOIA, FOIA data ...| [en-US]|http://www.usa.go...|2014-10-01|  [007:053]|   NULL|    NULL|Office of Secreta...|              NULL|       NULL|             NULL|     NULL|                NULL|                NULL|944a459c-373e-7dd...|\n",
            "|dcat:Dataset|     public|  [007:00]|       true|Detailed listing ...|           DOD-11871|[FOIA, FOIA data ...| [en-US]|http://www.usa.go...|2007-10-01|  [007:053]|   NULL|    NULL|Office of Secreta...|              NULL|       NULL|dcat:Distribution|     NULL|                NULL|                NULL|                NULL|\n",
            "|dcat:Dataset|     public|  [007:00]|       true|Detailed listing ...|           DOD-11871|[FOIA, FOIA data ...| [en-US]|http://www.usa.go...|2007-10-01|  [007:053]|   NULL|    NULL|Office of Secreta...|              NULL|       NULL|             NULL|     NULL|http://www.dod.mi...|                NULL|                NULL|\n",
            "|dcat:Dataset|     public|  [007:00]|       true|Detailed listing ...|           DOD-11871|[FOIA, FOIA data ...| [en-US]|http://www.usa.go...|2007-10-01|  [007:053]|   NULL|    NULL|Office of Secreta...|              NULL|       NULL|             NULL|     NULL|http://www.dod.mi...|                NULL|                NULL|\n",
            "|dcat:Dataset|     public|  [007:00]|       true|Detailed listing ...|           DOD-11871|[FOIA, FOIA data ...| [en-US]|http://www.usa.go...|2007-10-01|  [007:053]|   NULL|    NULL|Office of Secreta...|              NULL|       NULL|             NULL|     NULL|                NULL|     application/pdf|                NULL|\n",
            "|dcat:Dataset|     public|  [007:00]|       true|Detailed listing ...|           DOD-11871|[FOIA, FOIA data ...| [en-US]|http://www.usa.go...|2007-10-01|  [007:053]|   NULL|    NULL|Office of Secreta...|              NULL|       NULL|             NULL|     NULL|                NULL|application/vnd.m...|                NULL|\n",
            "|dcat:Dataset|     public|  [007:00]|       true|Detailed listing ...|           DOD-11871|[FOIA, FOIA data ...| [en-US]|http://www.usa.go...|2007-10-01|  [007:053]|   NULL|    NULL|Office of Secreta...|              NULL|       NULL|             NULL|     NULL|                NULL|                NULL|01316524-a098-498...|\n",
            "|dcat:Dataset|     public|  [007:00]|       true|Detailed listing ...|           DOD-11871|[FOIA, FOIA data ...| [en-US]|http://www.usa.go...|2007-10-01|  [007:053]|   NULL|    NULL|Office of Secreta...|              NULL|       NULL|             NULL|     NULL|                NULL|                NULL|c5d9ea35-52c5-481...|\n",
            "|dcat:Dataset|     public|  [007:00]|       true|Detailed listing ...|           DOD-11881|[FOIA, FOIA data ...| [en-US]|http://www.usa.go...|2008-10-01|  [007:053]|   NULL|    NULL|Office of Secreta...|              NULL|       NULL|dcat:Distribution|     NULL|                NULL|                NULL|                NULL|\n",
            "|dcat:Dataset|     public|  [007:00]|       true|Detailed listing ...|           DOD-11881|[FOIA, FOIA data ...| [en-US]|http://www.usa.go...|2008-10-01|  [007:053]|   NULL|    NULL|Office of Secreta...|              NULL|       NULL|             NULL|     NULL|http://www.dod.mi...|                NULL|                NULL|\n",
            "|dcat:Dataset|     public|  [007:00]|       true|Detailed listing ...|           DOD-11881|[FOIA, FOIA data ...| [en-US]|http://www.usa.go...|2008-10-01|  [007:053]|   NULL|    NULL|Office of Secreta...|              NULL|       NULL|             NULL|     NULL|http://www.dod.mi...|                NULL|                NULL|\n",
            "|dcat:Dataset|     public|  [007:00]|       true|Detailed listing ...|           DOD-11881|[FOIA, FOIA data ...| [en-US]|http://www.usa.go...|2008-10-01|  [007:053]|   NULL|    NULL|Office of Secreta...|              NULL|       NULL|             NULL|     NULL|                NULL|     application/pdf|                NULL|\n",
            "|dcat:Dataset|     public|  [007:00]|       true|Detailed listing ...|           DOD-11881|[FOIA, FOIA data ...| [en-US]|http://www.usa.go...|2008-10-01|  [007:053]|   NULL|    NULL|Office of Secreta...|              NULL|       NULL|             NULL|     NULL|                NULL|application/vnd.m...|                NULL|\n",
            "|dcat:Dataset|     public|  [007:00]|       true|Detailed listing ...|           DOD-11881|[FOIA, FOIA data ...| [en-US]|http://www.usa.go...|2008-10-01|  [007:053]|   NULL|    NULL|Office of Secreta...|              NULL|       NULL|             NULL|     NULL|                NULL|                NULL|55da9ae0-0589-435...|\n",
            "+------------+-----------+----------+-----------+--------------------+--------------------+--------------------+--------+--------------------+----------+-----------+-------+--------+--------------------+------------------+-----------+-----------------+---------+--------------------+--------------------+--------------------+\n",
            "only showing top 20 rows\n",
            "\n"
          ]
        }
      ]
    },
    {
      "cell_type": "code",
      "source": [
        "from pyspark.sql.functions import size\n",
        "\n",
        "df = spark.read.csv(\"/tmp/ds.csv\", header=True)\n",
        "df.show()\n",
        "#df.select(\"publisher.name\", \"keyword\").show()"
      ],
      "metadata": {
        "colab": {
          "base_uri": "https://localhost:8080/"
        },
        "id": "-QkFSItsJVI5",
        "outputId": "99f7dadb-abf4-426f-9e0e-f195c0089df4"
      },
      "execution_count": 83,
      "outputs": [
        {
          "output_type": "stream",
          "name": "stdout",
          "text": [
            "+--------------------+----+----+\n",
            "|                 _c0| _c1| _c2|\n",
            "+--------------------+----+----+\n",
            "|                NULL|NULL|NULL|\n",
            "|                NULL|NULL|NULL|\n",
            "|                NULL|NULL|NULL|\n",
            "|                NULL|NULL|NULL|\n",
            "|http://comptrolle...|NULL|NULL|\n",
            "|http://comptrolle...|NULL|NULL|\n",
            "|http://comptrolle...|NULL|NULL|\n",
            "|http://comptrolle...|NULL|NULL|\n",
            "|http://comptrolle...|NULL|NULL|\n",
            "|http://comptrolle...|NULL|NULL|\n",
            "|http://comptrolle...|NULL|NULL|\n",
            "|http://comptrolle...|NULL|NULL|\n",
            "|http://comptrolle...|NULL|NULL|\n",
            "|http://comptrolle...|NULL|NULL|\n",
            "|http://comptrolle...|NULL|NULL|\n",
            "|http://comptrolle...|NULL|NULL|\n",
            "|http://comptrolle...|NULL|NULL|\n",
            "|http://comptrolle...|NULL|NULL|\n",
            "|http://comptrolle...|NULL|NULL|\n",
            "|http://comptrolle...|NULL|NULL|\n",
            "+--------------------+----+----+\n",
            "only showing top 20 rows\n",
            "\n"
          ]
        }
      ]
    },
    {
      "cell_type": "code",
      "source": [
        "from pyspark.sql.functions import size\n",
        "\n",
        "df = spark.createDataFrame(data[\"dataset\"])\n",
        "\n",
        "df.select('publisher.name', 'keyword', size(\"keyword\")).show()"
      ],
      "metadata": {
        "id": "SyReld-Dxj__"
      },
      "execution_count": null,
      "outputs": []
    },
    {
      "cell_type": "code",
      "source": [
        "!cat /tmp/ds.csv\n",
        "# !rm /tmp/ds.csv"
      ],
      "metadata": {
        "id": "5ZZGtZ9Z80UB",
        "colab": {
          "base_uri": "https://localhost:8080/"
        },
        "outputId": "fe067d85-88ed-4e7a-a7e4-d235efd61d4e"
      },
      "execution_count": 80,
      "outputs": [
        {
          "output_type": "stream",
          "name": "stdout",
          "text": [
            "cat: /tmp/ds.csv: Is a directory\n"
          ]
        }
      ]
    },
    {
      "cell_type": "markdown",
      "source": [
        "Goal\n",
        "\n",
        "Create a silver layer of data that performs some transformations on the bronze data.\n",
        "\n",
        "This data should provide two new tables:\n",
        "\n",
        "providers\n",
        "the unique name of each provider\n",
        "keywords\n",
        "how often each keyword occurred for each provider\n",
        "Requirements\n",
        "The following data should exist in the silver layer\n",
        "providers\n",
        "id: integer\n",
        "name: string\n",
        "\n",
        "keywords\n",
        "id: integer\n",
        "provider_id: string\n",
        "keyword: string\n",
        "count: integer\n",
        "\n",
        "Any assumptions about the data, process, etc. are captured in the comments on this story\n",
        "Any additional testing or capabilities are captured in the comments on this story\n",
        "Blockers\n",
        "This story requires that bronze data already exists"
      ],
      "metadata": {
        "id": "9itTuDgltA-f"
      }
    },
    {
      "cell_type": "code",
      "source": [],
      "metadata": {
        "id": "qwOTBzWbwTeG"
      },
      "execution_count": null,
      "outputs": []
    }
  ]
}
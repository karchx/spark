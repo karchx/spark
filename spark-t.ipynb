{
  "nbformat": 4,
  "nbformat_minor": 0,
  "metadata": {
    "colab": {
      "provenance": [],
      "collapsed_sections": [
        "Ha4GJBIogCPw"
      ],
      "include_colab_link": true
    },
    "kernelspec": {
      "name": "python3",
      "display_name": "Python 3"
    }
  },
  "cells": [
    {
      "cell_type": "markdown",
      "metadata": {
        "id": "view-in-github",
        "colab_type": "text"
      },
      "source": [
        "<a href=\"https://colab.research.google.com/github/karchx/spark/blob/main/spark-t.ipynb\" target=\"_parent\"><img src=\"https://colab.research.google.com/assets/colab-badge.svg\" alt=\"Open In Colab\"/></a>"
      ]
    },
    {
      "cell_type": "markdown",
      "source": [
        "# Dataset create CSV with pyspark"
      ],
      "metadata": {
        "id": "MYHOo897bH9J"
      }
    },
    {
      "cell_type": "code",
      "metadata": {
        "id": "ubhXKpI5B4-q"
      },
      "source": [
        "!pip install pyspark pandas\n",
        "!apt-get install openjdk-8-jdk-headless -qq > /dev/null\n",
        "\n",
        "import os\n",
        "os.environ[\"JAVA_HOME\"] = \"/usr/lib/jvm/java-8-openjdk-amd64\""
      ],
      "execution_count": null,
      "outputs": []
    },
    {
      "cell_type": "code",
      "source": [
        "import requests\n",
        "import json\n",
        "\n",
        "data = requests.get(\"https://www.defense.gov/data.json\")\n",
        "data = data.json()\n",
        "with open(\"/tmp/ds_w.json\", \"w\") as f:\n",
        "  f.write(json.dumps(data[\"dataset\"]))"
      ],
      "metadata": {
        "id": "guRFN4rIbGn-"
      },
      "execution_count": null,
      "outputs": []
    },
    {
      "cell_type": "code",
      "source": [
        "# !cat /tmp/ds.json\n",
        "!ls -l --block-size=M /tmp/ds_w.json"
      ],
      "metadata": {
        "colab": {
          "base_uri": "https://localhost:8080/"
        },
        "id": "3ucg9aNtbpAb",
        "outputId": "aad4d93b-4a36-4c22-a3d0-8ee3a8ab5029"
      },
      "execution_count": null,
      "outputs": [
        {
          "output_type": "stream",
          "name": "stdout",
          "text": [
            "-rw-r--r-- 1 root root 1M Mar 22 01:54 /tmp/ds_w.json\n"
          ]
        }
      ]
    },
    {
      "cell_type": "code",
      "metadata": {
        "id": "GVnGWSdGBiQ5"
      },
      "source": [
        "from pyspark import SparkConf, SparkContext, SQLContext\n",
        "from pyspark.sql import SparkSession\n",
        "\n",
        "#conf = SparkConf().setMaster(\"local\").setAppName(\"create_csv\")\n",
        "\n",
        "# Inicializo el Spark Context\n",
        "spark = SparkSession.builder.master(\"local\").appName(\"create_csv\").getOrCreate()\n",
        "\n",
        "#spark = SparkSession.builder.master(\"local\").appName(\"create_csv\").getOrCreate()\n",
        "#spark = SQLContext(sc)"
      ],
      "execution_count": null,
      "outputs": []
    },
    {
      "cell_type": "code",
      "source": [
        "import pyspark.sql.functions as F\n",
        "\n",
        "df = spark.createDataFrame(data[\"dataset\"])\n",
        "\n",
        "df2 = df.select(\"*\", F.explode(df.publisher))\n",
        "\n",
        "pv = df2.select(\"keyword\", \"key\", \"value\")\\\n",
        "  .groupBy([\"keyword\", \"key\", \"value\"])\\\n",
        "  .pivot(\"key\").agg(F.first(\"value\"))\\\n",
        "\n",
        "keywords = pv.drop(\"@type\", \"key\", \"value\")\n",
        "keywords.select('name').distinct().show(truncate=False)"
      ],
      "metadata": {
        "id": "z0WB7926cW06",
        "colab": {
          "base_uri": "https://localhost:8080/"
        },
        "outputId": "5ea03f5d-b597-410c-99d6-af4ec06f02cf"
      },
      "execution_count": null,
      "outputs": [
        {
          "output_type": "stream",
          "name": "stdout",
          "text": [
            "+---------------------------------------+\n",
            "|name                                   |\n",
            "+---------------------------------------+\n",
            "|US Army Corps of Engineers             |\n",
            "|Defense Commissary Agency              |\n",
            "|Department of Defense Inspector General|\n",
            "|Office of the Secretary of Defense     |\n",
            "|Defense Logistics Agency               |\n",
            "|Federal Voting Assistance Program      |\n",
            "|Department of Defense                  |\n",
            "|Department of the Air Force            |\n",
            "|NULL                                   |\n",
            "+---------------------------------------+\n",
            "\n"
          ]
        }
      ]
    },
    {
      "cell_type": "code",
      "source": [
        "from google.colab import drive\n",
        "drive.mount('/content/drive')"
      ],
      "metadata": {
        "id": "mhePkWfFYU9X",
        "colab": {
          "base_uri": "https://localhost:8080/"
        },
        "outputId": "e12afa26-28cb-46be-c7e7-5c49bc760383"
      },
      "execution_count": null,
      "outputs": [
        {
          "output_type": "stream",
          "name": "stdout",
          "text": [
            "Mounted at /content/drive\n"
          ]
        }
      ]
    },
    {
      "cell_type": "code",
      "source": [
        "from pyspark.sql.functions import size\n",
        "\n",
        "df = spark.read.csv(\"/content/drive/My Drive/providers.csv\", header=True)\n",
        "df = df.alias(\"provider\")\n",
        "keywords = keywords.alias(\"keyword\")\n",
        "join = df.join(keywords, [F.col(\"keyword.name\") == F.col(\"provider.name\")], how=\"right\")\n",
        "#df_clean = join.dropna(how=\"any\")\n",
        "#df_clean.show()\n",
        "join.drop(\"all\").show()\n",
        "#df.select(\"publisher.name\", \"keyword\").show()"
      ],
      "metadata": {
        "id": "-QkFSItsJVI5",
        "colab": {
          "base_uri": "https://localhost:8080/"
        },
        "outputId": "beebde39-b9d6-40c3-8e00-ca0f64f33160"
      },
      "execution_count": null,
      "outputs": [
        {
          "output_type": "stream",
          "name": "stdout",
          "text": [
            "+--------------------+----+--------------------+--------------------+\n",
            "|                name|  id|             keyword|                name|\n",
            "+--------------------+----+--------------------+--------------------+\n",
            "|                NULL|NULL|[Active, Air Forc...|                NULL|\n",
            "|Department of Def...|   3|[Active, Air Forc...|Department of Def...|\n",
            "|                NULL|NULL|[Air Force, Alaba...|                NULL|\n",
            "|Department of Def...|   3|[Air Force, Alaba...|Department of Def...|\n",
            "|                NULL|NULL|[Air Force, Alask...|                NULL|\n",
            "|Department of Def...|   3|[Air Force, Alask...|Department of Def...|\n",
            "|                NULL|NULL|      [Cost Savings]|                NULL|\n",
            "|Department of Def...|   3|      [Cost Savings]|Department of Def...|\n",
            "|                NULL|NULL|        [DLA Energy]|                NULL|\n",
            "|Defense Logistics...|   2|        [DLA Energy]|Defense Logistics...|\n",
            "|                NULL|NULL|[DLA Strategic Plan]|                NULL|\n",
            "|Defense Logistics...|   2|[DLA Strategic Plan]|Defense Logistics...|\n",
            "|                NULL|NULL|   [DOD, IG, Report]|                NULL|\n",
            "|Defense Commissar...|   1|   [DOD, IG, Report]|Defense Commissar...|\n",
            "|                NULL|NULL|   [Defense, Budget]|                NULL|\n",
            "|Department of Def...|   3|   [Defense, Budget]|Department of Def...|\n",
            "|                NULL|NULL|[Department of De...|                NULL|\n",
            "|Department of Def...|   4|[Department of De...|Department of Def...|\n",
            "|                NULL|NULL|[Department of St...|                NULL|\n",
            "|Federal Voting As...|   6|[Department of St...|Federal Voting As...|\n",
            "+--------------------+----+--------------------+--------------------+\n",
            "only showing top 20 rows\n",
            "\n"
          ]
        }
      ]
    },
    {
      "cell_type": "markdown",
      "source": [
        "Goal\n",
        "\n",
        "Create a silver layer of data that performs some transformations on the bronze data.\n",
        "\n",
        "This data should provide two new tables:\n",
        "\n",
        "providers\n",
        "the unique name of each provider\n",
        "keywords\n",
        "how often each keyword occurred for each provider\n",
        "Requirements\n",
        "The following data should exist in the silver layer\n",
        "providers\n",
        "id: integer\n",
        "name: string\n",
        "\n",
        "keywords\n",
        "id: integer\n",
        "provider_id: string\n",
        "keyword: string\n",
        "count: integer\n",
        "\n",
        "Any assumptions about the data, process, etc. are captured in the comments on this story\n",
        "Any additional testing or capabilities are captured in the comments on this story\n",
        "Blockers\n",
        "This story requires that bronze data already exists"
      ],
      "metadata": {
        "id": "9itTuDgltA-f"
      }
    },
    {
      "cell_type": "code",
      "source": [],
      "metadata": {
        "id": "qwOTBzWbwTeG"
      },
      "execution_count": null,
      "outputs": []
    }
  ]
}